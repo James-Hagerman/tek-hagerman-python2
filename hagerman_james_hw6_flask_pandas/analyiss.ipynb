{
 "cells": [
  {
   "cell_type": "code",
   "execution_count": 1,
   "id": "821b93a3-a68c-4557-ab75-0d8a2052f592",
   "metadata": {},
   "outputs": [],
   "source": [
    "import mysql.connector as sql\n",
    "import pandas as pd\n",
    "db_conn = sql.connect(host=\"localhost\",\n",
    "    user = \"root\",\n",
    "    passwd = '1A2s3D4f5G6h7J8k9L0z1Z2x3C4v5B6n7M',\n",
    "    database = 'adoption'\n",
    "                     )\n",
    "db_cursor = db_conn.cursor()"
   ]
  },
  {
   "cell_type": "code",
   "execution_count": 11,
   "id": "0c1e9fee-f832-4ec3-9a32-a7549c26683d",
   "metadata": {},
   "outputs": [
    {
     "data": {
      "text/html": [
       "<div>\n",
       "<style scoped>\n",
       "    .dataframe tbody tr th:only-of-type {\n",
       "        vertical-align: middle;\n",
       "    }\n",
       "\n",
       "    .dataframe tbody tr th {\n",
       "        vertical-align: top;\n",
       "    }\n",
       "\n",
       "    .dataframe thead th {\n",
       "        text-align: right;\n",
       "    }\n",
       "</style>\n",
       "<table border=\"1\" class=\"dataframe\">\n",
       "  <thead>\n",
       "    <tr style=\"text-align: right;\">\n",
       "      <th></th>\n",
       "      <th>puppy_id</th>\n",
       "      <th>name</th>\n",
       "      <th>age</th>\n",
       "      <th>breed</th>\n",
       "    </tr>\n",
       "  </thead>\n",
       "  <tbody>\n",
       "    <tr>\n",
       "      <th>0</th>\n",
       "      <td>1</td>\n",
       "      <td>rufus</td>\n",
       "      <td>1</td>\n",
       "      <td>pug</td>\n",
       "    </tr>\n",
       "    <tr>\n",
       "      <th>1</th>\n",
       "      <td>2</td>\n",
       "      <td>max</td>\n",
       "      <td>4</td>\n",
       "      <td>lab</td>\n",
       "    </tr>\n",
       "    <tr>\n",
       "      <th>2</th>\n",
       "      <td>3</td>\n",
       "      <td>shadow</td>\n",
       "      <td>8</td>\n",
       "      <td>golden retriever</td>\n",
       "    </tr>\n",
       "    <tr>\n",
       "      <th>3</th>\n",
       "      <td>4</td>\n",
       "      <td>ella</td>\n",
       "      <td>3</td>\n",
       "      <td>chow</td>\n",
       "    </tr>\n",
       "    <tr>\n",
       "      <th>4</th>\n",
       "      <td>5</td>\n",
       "      <td>timmy</td>\n",
       "      <td>9</td>\n",
       "      <td>shitzu</td>\n",
       "    </tr>\n",
       "  </tbody>\n",
       "</table>\n",
       "</div>"
      ],
      "text/plain": [
       "   puppy_id    name  age             breed\n",
       "0         1  rufus     1               pug\n",
       "1         2     max    4               lab\n",
       "2         3  shadow    8  golden retriever\n",
       "3         4   ella     3              chow\n",
       "4         5   timmy    9            shitzu"
      ]
     },
     "execution_count": 11,
     "metadata": {},
     "output_type": "execute_result"
    }
   ],
   "source": [
    "db_cursor.execute('SELECT * FROM puppies')\n",
    "table_rows = db_cursor.fetchall()\n",
    "df_puppies = pd.DataFrame(table_rows)\n",
    "df_puppies.columns = ['puppy_id', 'name', 'age', 'breed']\n",
    "df_puppies.head()"
   ]
  },
  {
   "cell_type": "code",
   "execution_count": 10,
   "id": "630036a7-f8c8-4b02-bd2c-1351623d443a",
   "metadata": {},
   "outputs": [
    {
     "data": {
      "text/html": [
       "<div>\n",
       "<style scoped>\n",
       "    .dataframe tbody tr th:only-of-type {\n",
       "        vertical-align: middle;\n",
       "    }\n",
       "\n",
       "    .dataframe tbody tr th {\n",
       "        vertical-align: top;\n",
       "    }\n",
       "\n",
       "    .dataframe thead th {\n",
       "        text-align: right;\n",
       "    }\n",
       "</style>\n",
       "<table border=\"1\" class=\"dataframe\">\n",
       "  <thead>\n",
       "    <tr style=\"text-align: right;\">\n",
       "      <th></th>\n",
       "      <th>owner_id</th>\n",
       "      <th>name</th>\n",
       "      <th>puppy_id</th>\n",
       "    </tr>\n",
       "  </thead>\n",
       "  <tbody>\n",
       "    <tr>\n",
       "      <th>0</th>\n",
       "      <td>1</td>\n",
       "      <td>james</td>\n",
       "      <td>0</td>\n",
       "    </tr>\n",
       "    <tr>\n",
       "      <th>1</th>\n",
       "      <td>2</td>\n",
       "      <td>john</td>\n",
       "      <td>1</td>\n",
       "    </tr>\n",
       "    <tr>\n",
       "      <th>2</th>\n",
       "      <td>3</td>\n",
       "      <td>gordon</td>\n",
       "      <td>2</td>\n",
       "    </tr>\n",
       "    <tr>\n",
       "      <th>3</th>\n",
       "      <td>4</td>\n",
       "      <td>alex</td>\n",
       "      <td>3</td>\n",
       "    </tr>\n",
       "    <tr>\n",
       "      <th>4</th>\n",
       "      <td>5</td>\n",
       "      <td>virginia</td>\n",
       "      <td>4</td>\n",
       "    </tr>\n",
       "  </tbody>\n",
       "</table>\n",
       "</div>"
      ],
      "text/plain": [
       "   owner_id      name  puppy_id\n",
       "0         1     james         0\n",
       "1         2      john         1\n",
       "2         3    gordon         2\n",
       "3         4      alex         3\n",
       "4         5  virginia         4"
      ]
     },
     "execution_count": 10,
     "metadata": {},
     "output_type": "execute_result"
    }
   ],
   "source": [
    "db_cursor.execute('SELECT * FROM owners')\n",
    "table_rows = db_cursor.fetchall()\n",
    "df_owner = pd.DataFrame(table_rows)\n",
    "df_owner.columns = ['owner_id','name', 'puppy_id']\n",
    "df_owner.head()"
   ]
  },
  {
   "cell_type": "code",
   "execution_count": 28,
   "id": "ad29220f-a5a2-4b9b-8921-e90c23e7ab0b",
   "metadata": {},
   "outputs": [
    {
     "name": "stdout",
     "output_type": "stream",
     "text": [
      "puppies has 60 records\n",
      "owners has 40 records\n"
     ]
    }
   ],
   "source": [
    "print('puppies has ' + str(len(df_puppies)) + ' records')\n",
    "print('owners has ' + str(len(df_owner)) + ' records') "
   ]
  },
  {
   "cell_type": "code",
   "execution_count": 26,
   "id": "725222f6-59c2-4790-9280-78af79c6a0a8",
   "metadata": {},
   "outputs": [
    {
     "name": "stdout",
     "output_type": "stream",
     "text": [
      "puppies has 4 columns\n",
      "owners has 3 columns\n"
     ]
    }
   ],
   "source": [
    "print('puppies has ' + str(df_puppies.shape[1]) + ' columns')\n",
    "print('owners has ' + str(df_owner.shape[1]) + ' columns')"
   ]
  },
  {
   "cell_type": "code",
   "execution_count": 29,
   "id": "28e40772-2e8b-4a84-9d8d-98ca53b0189f",
   "metadata": {},
   "outputs": [
    {
     "data": {
      "text/plain": [
       "pug                 6\n",
       "chow                6\n",
       "poodle              3\n",
       "basset hound        3\n",
       "french bulldog      3\n",
       "dachshund           3\n",
       "terrier             3\n",
       "bull terrier        3\n",
       "husky               3\n",
       "great dane          3\n",
       "lab                 3\n",
       "alaskan malamute    3\n",
       "boxer               3\n",
       "beagle              3\n",
       "bulldog             3\n",
       "shitzu              3\n",
       "golden retriever    3\n",
       "St. bernard         3\n",
       "Name: breed, dtype: int64"
      ]
     },
     "execution_count": 29,
     "metadata": {},
     "output_type": "execute_result"
    }
   ],
   "source": [
    "pd.value_counts(df_puppies.breed)"
   ]
  },
  {
   "cell_type": "code",
   "execution_count": 31,
   "id": "78d0a559-1e3c-40a2-aa19-03853da8ee19",
   "metadata": {},
   "outputs": [
    {
     "data": {
      "text/plain": [
       "james       2\n",
       "john        2\n",
       "jennifer    2\n",
       "charles     2\n",
       "susan       2\n",
       "thomas      2\n",
       "karen       2\n",
       "sarah       2\n",
       "william     2\n",
       "michael     2\n",
       "tyler       2\n",
       "eli         2\n",
       "jay         2\n",
       "nick        2\n",
       "noah        2\n",
       "catrina     2\n",
       "virginia    2\n",
       "alex        2\n",
       "gordon      2\n",
       "mary        2\n",
       "Name: name, dtype: int64"
      ]
     },
     "execution_count": 31,
     "metadata": {},
     "output_type": "execute_result"
    }
   ],
   "source": [
    "pd.value_counts(df_owner.name)"
   ]
  },
  {
   "cell_type": "code",
   "execution_count": null,
   "id": "79e64905-9d94-4428-b79c-6df3790a94f3",
   "metadata": {},
   "outputs": [],
   "source": []
  }
 ],
 "metadata": {
  "kernelspec": {
   "display_name": "Python 3 (ipykernel)",
   "language": "python",
   "name": "python3"
  },
  "language_info": {
   "codemirror_mode": {
    "name": "ipython",
    "version": 3
   },
   "file_extension": ".py",
   "mimetype": "text/x-python",
   "name": "python",
   "nbconvert_exporter": "python",
   "pygments_lexer": "ipython3",
   "version": "3.8.7"
  }
 },
 "nbformat": 4,
 "nbformat_minor": 5
}
